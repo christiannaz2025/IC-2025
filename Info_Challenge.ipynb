{
  "nbformat": 4,
  "nbformat_minor": 0,
  "metadata": {
    "colab": {
      "provenance": [],
      "include_colab_link": true
    },
    "kernelspec": {
      "name": "python3",
      "display_name": "Python 3"
    },
    "language_info": {
      "name": "python"
    }
  },
  "cells": [
    {
      "cell_type": "markdown",
      "metadata": {
        "id": "view-in-github",
        "colab_type": "text"
      },
      "source": [
        "<a href=\"https://colab.research.google.com/github/christiannaz2025/IC-2025/blob/main/Info_Challenge.ipynb\" target=\"_parent\"><img src=\"https://colab.research.google.com/assets/colab-badge.svg\" alt=\"Open In Colab\"/></a>"
      ]
    },
    {
      "cell_type": "code",
      "execution_count": null,
      "metadata": {
        "id": "S-B_5ZpeeiNR"
      },
      "outputs": [],
      "source": [
        "import pandas as pd\n",
        "import numpy as np\n",
        "import matplotlib.pyplot as plt\n",
        "import seaborn as sns\n",
        "from google.colab import files\n",
        "from sklearn.model_selection import train_test_split\n",
        "from sklearn.preprocessing import LabelEncoder, StandardScaler\n",
        "from sklearn.ensemble import RandomForestClassifier\n",
        "from sklearn.metrics import accuracy_score, classification_report, confusion_matrix\n",
        "#Import of databases that we may use\n"
      ]
    },
    {
      "cell_type": "code",
      "source": [
        "# Load dataset from xlsx file with multiple sheets\n",
        "file_path = '/content/InfoChallengeCombined.xlsx'\n",
        "excel_data = pd.read_excel(file_path, sheet_name=None)\n",
        "\n",
        "#Begining to separate the sheets in the excel file\n",
        "sheet1_df = excel_data[\"Customer Cases - Training\"]\n",
        "sheet2_df = excel_data[\"Special Events / Construction\"]\n",
        "sheet3_df = excel_data[\"Lots & Permissions\"]\n",
        "sheet4_df = excel_data[\"Dates\"]\n",
        "sheet5_df = excel_data[\"Parking Fines\"]\n",
        "sheet6_df = excel_data[\"Parking Restrictions\"]\n",
        "#Testing to see if it saved the sheet\n",
        "#print(\"Sheet 1:\")\n",
        "#print(sheet1_df.head())\n",
        "#Worked so commenting it out\n",
        "\n"
      ],
      "metadata": {
        "colab": {
          "base_uri": "https://localhost:8080/",
          "height": 216
        },
        "id": "mltgXcO9fzzp",
        "outputId": "4ab2e0bf-c618-4269-a387-cbbf5e674355"
      },
      "execution_count": null,
      "outputs": [
        {
          "output_type": "error",
          "ename": "KeyError",
          "evalue": "'Lots & Permissions'",
          "traceback": [
            "\u001b[0;31m---------------------------------------------------------------------------\u001b[0m",
            "\u001b[0;31mKeyError\u001b[0m                                  Traceback (most recent call last)",
            "\u001b[0;32m<ipython-input-6-172b348eaa8c>\u001b[0m in \u001b[0;36m<cell line: 0>\u001b[0;34m()\u001b[0m\n\u001b[1;32m      6\u001b[0m \u001b[0msheet1_df\u001b[0m \u001b[0;34m=\u001b[0m \u001b[0mexcel_data\u001b[0m\u001b[0;34m[\u001b[0m\u001b[0;34m\"Customer Cases - Training\"\u001b[0m\u001b[0;34m]\u001b[0m\u001b[0;34m\u001b[0m\u001b[0;34m\u001b[0m\u001b[0m\n\u001b[1;32m      7\u001b[0m \u001b[0;31m#sheet2_df = excel_data[\"Special Events / Construction\"]\u001b[0m\u001b[0;34m\u001b[0m\u001b[0;34m\u001b[0m\u001b[0m\n\u001b[0;32m----> 8\u001b[0;31m \u001b[0msheet3_df\u001b[0m \u001b[0;34m=\u001b[0m \u001b[0mexcel_data\u001b[0m\u001b[0;34m[\u001b[0m\u001b[0;34m\"Lots & Permissions\"\u001b[0m\u001b[0;34m]\u001b[0m\u001b[0;34m\u001b[0m\u001b[0;34m\u001b[0m\u001b[0m\n\u001b[0m\u001b[1;32m      9\u001b[0m \u001b[0msheet4_df\u001b[0m \u001b[0;34m=\u001b[0m \u001b[0mexcel_data\u001b[0m\u001b[0;34m[\u001b[0m\u001b[0;34m\"Dates\"\u001b[0m\u001b[0;34m]\u001b[0m\u001b[0;34m\u001b[0m\u001b[0;34m\u001b[0m\u001b[0m\n\u001b[1;32m     10\u001b[0m \u001b[0msheet5_df\u001b[0m \u001b[0;34m=\u001b[0m \u001b[0mexcel_data\u001b[0m\u001b[0;34m[\u001b[0m\u001b[0;34m\"Parking Fines\"\u001b[0m\u001b[0;34m]\u001b[0m\u001b[0;34m\u001b[0m\u001b[0;34m\u001b[0m\u001b[0m\n",
            "\u001b[0;31mKeyError\u001b[0m: 'Lots & Permissions'"
          ]
        }
      ]
    },
    {
      "cell_type": "code",
      "source": [
        "import pandas as pd\n",
        "import numpy as np\n",
        "from sklearn import datasets\n",
        "from sklearn.model_selection import train_test_split\n",
        "from sklearn.preprocessing import LabelEncoder\n",
        "from sklearn.ensemble import RandomForestClassifier\n",
        "from sklearn.metrics import accuracy_score\n",
        "\n",
        "#Skeleton Code I want to die\n",
        "\n",
        "# Step 1: Load Data\n",
        "def load_data(file_path):\n",
        "    #Load all sheets from the Excel file\n",
        "    sheets = [\"Customer Cases - Training\",\"Special Events  Construction\", \"Lots & Permissions\", \"Permits & Permissions\",\n",
        "              \"Dates\", \"Parking Fines\", \"Parking Restrictions\"]\n",
        "    data = pd.read_excel(file_path, sheet_name=sheets)\n",
        "    return data\n",
        "\n",
        "#Testing to see if it printed\n",
        "#print(load_data(\"InfoChallenge.xlsx\"))\n",
        "#It did\n",
        "\n",
        "def RandomForestClassifier(data):\n",
        "  # Selecting the relevant sheet (Customer Cases - Training)\n",
        "  data = data[\"Customer Cases - Training\"].copy()\n",
        "\n",
        "  # Dropping rows with missing values in 'Time' and 'Permissions'\n",
        "  #Dropping empty rows IDK if necessary tbh\n",
        "  #data = data.dropna(subset=['Time', 'Permissions'])\n",
        "\n",
        "  # Define the features (X) and target (y)\n",
        "  # X is input variables used to predict the outcome\n",
        "  X = data[['Permit', 'Permissions', 'Personnel Type (Fac/Staff, Student, Visitor)', 'Date', 'Time']]\n",
        "  # Y is output variable (park/cant park)\n",
        "  y = data['Eligible Lots (Not Exhaustive for some examples)']\n",
        "\n",
        "\n",
        "\n",
        "  # Encode 'Permit' column\n",
        "  label_encoder = LabelEncoder()\n",
        "  data.loc[:, 'Permit'] = label_encoder.fit_transform(data['Permit'])\n",
        "  data.loc[:, 'Personnel Type (Fac/Staff, Student, Visitor)'] = label_encoder.fit_transform(data['Personnel Type (Fac/Staff, Student, Visitor)'])\n",
        "  # Convert 'Date' to datetime and extract relevant features\n",
        "  data['Date'] = pd.to_datetime(data['Date'], format='%m/%d/%Y')\n",
        "  data['Year'] = data['Date'].dt.year\n",
        "  data['Month'] = data['Date'].dt.month\n",
        "  data['Day'] = data['Date'].dt.day\n",
        "  data['Weekday'] = data['Date'].dt.weekday\n",
        "  # Convert 'Time' to datetime, handling errors with 'coerce' to deal with invalid values\n",
        "  # Instead of filling with median, replace non-numeric values with NaT (Not a Time)\n",
        "  data['Time'] = pd.to_datetime(data['Time'], format='%I:%M %p', errors='coerce')\n",
        "  # Handle 'NaT' (invalid or missing time) by dropping them (depending on your preference)\n",
        "  data = data.dropna(subset=['Time'])  # Option to drop rows with invalid times\n",
        "  # Extract hour and minute from 'Time' if valid\n",
        "  data['Hour'] = data['Time'].dt.hour\n",
        "  data['Minute'] = data['Time'].dt.minute\n",
        "\n",
        "  # Recreating X after preprocessing 'Time'\n",
        "  X = data[['Permit', 'Permissions', 'Personnel Type (Fac/Staff, Student, Visitor)', 'Date', 'Time']]\n",
        "\n",
        "  # Fill missing 'Permissions' values with the median if it's numeric\n",
        "  if pd.api.types.is_numeric_dtype(X['Permissions']):\n",
        "      X.loc[:, 'Permissions'].fillna(X['Permissions'].median(), inplace=True)\n",
        "  else:\n",
        "      # Handle non-numeric 'Permissions' (e.g., using mode or dropping)\n",
        "      # This depends on your data and preference\n",
        "      pass # Replace with appropriate handling\n",
        "\n",
        "# Calling the function with the loaded data\n",
        "data = load_data(\"InfoChallenge.xlsx\")\n",
        "RandomForestClassifier(data)\n"
      ],
      "metadata": {
        "id": "uhO2EQ4wo_0Q"
      },
      "execution_count": null,
      "outputs": []
    }
  ]
}